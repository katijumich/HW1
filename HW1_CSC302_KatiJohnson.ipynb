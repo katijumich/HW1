{
  "nbformat": 4,
  "nbformat_minor": 0,
  "metadata": {
    "colab": {
      "provenance": []
    },
    "kernelspec": {
      "name": "python3",
      "display_name": "Python 3"
    },
    "language_info": {
      "name": "python"
    }
  },
  "cells": [
    {
      "cell_type": "code",
      "execution_count": 1,
      "metadata": {
        "colab": {
          "base_uri": "https://localhost:8080/"
        },
        "id": "XiIcWVmGYDiY",
        "outputId": "ef2ffcf8-a3a9-463f-df1a-ca3f7da0e4be"
      },
      "outputs": [
        {
          "output_type": "stream",
          "name": "stdout",
          "text": [
            "Mounted at /content/drive\n"
          ]
        }
      ],
      "source": [
        "from google.colab import drive\n",
        "drive.mount('/content/drive')"
      ]
    },
    {
      "cell_type": "markdown",
      "source": [],
      "metadata": {
        "id": "0mAtmzxodQRp"
      }
    },
    {
      "cell_type": "code",
      "source": [
        "import pandas as pd\n",
        "import csv"
      ],
      "metadata": {
        "id": "g5aRIeTeYjQj"
      },
      "execution_count": 4,
      "outputs": []
    },
    {
      "cell_type": "code",
      "source": [
        "with open(\"/content/drive/MyDrive/CSC302/DATA/olympic_medals.csv\") as f:\n",
        "    reader = csv.DictReader(f)\n",
        "    olympics_data = list(reader)"
      ],
      "metadata": {
        "colab": {
          "base_uri": "https://localhost:8080/"
        },
        "id": "diOzhZ_pY8kE",
        "outputId": "ed3aab2b-e162-40d6-d23d-9bdf9b35f26c"
      },
      "execution_count": 5,
      "outputs": [
        {
          "output_type": "stream",
          "name": "stdout",
          "text": [
            "{'Gender': 'M', 'Event': '10000M Men', 'Location': 'Rio', 'Year': '2016', 'Medal': 'G', 'Name': 'Mohamed FARAH', 'Nationality': 'GBR', 'Result': '25:05.17'}\n",
            "{'Gender': 'M', 'Event': '10000M Men', 'Location': 'Rio', 'Year': '2016', 'Medal': 'S', 'Name': 'Paul Kipngetich TANUI', 'Nationality': 'KEN', 'Result': '27:05.64'}\n",
            "{'Gender': 'M', 'Event': '10000M Men', 'Location': 'Rio', 'Year': '2016', 'Medal': 'B', 'Name': 'Tamirat TOLA', 'Nationality': 'ETH', 'Result': '27:06.26'}\n",
            "{'Gender': 'M', 'Event': '10000M Men', 'Location': 'Beijing', 'Year': '2008', 'Medal': 'G', 'Name': 'Kenenisa BEKELE', 'Nationality': 'ETH', 'Result': '27:01.17'}\n",
            "{'Gender': 'M', 'Event': '10000M Men', 'Location': 'Beijing', 'Year': '2008', 'Medal': 'S', 'Name': 'Sileshi SIHINE', 'Nationality': 'ETH', 'Result': '27:02.77'}\n"
          ]
        }
      ]
    },
    {
      "cell_type": "markdown",
      "source": [
        "Set the olympics data as the dataframe"
      ],
      "metadata": {
        "id": "W7B4GQQ6dKaW"
      }
    },
    {
      "cell_type": "code",
      "source": [
        "df = pd.DataFrame(olympics_data)\n",
        "df.head()"
      ],
      "metadata": {
        "colab": {
          "base_uri": "https://localhost:8080/",
          "height": 206
        },
        "id": "16I9xpi_ZqH5",
        "outputId": "5b6d25e3-4975-4479-b8d4-1bf58b053b39"
      },
      "execution_count": 7,
      "outputs": [
        {
          "output_type": "execute_result",
          "data": {
            "text/plain": [
              "  Gender       Event Location  Year Medal                   Name Nationality  \\\n",
              "0      M  10000M Men      Rio  2016     G          Mohamed FARAH         GBR   \n",
              "1      M  10000M Men      Rio  2016     S  Paul Kipngetich TANUI         KEN   \n",
              "2      M  10000M Men      Rio  2016     B           Tamirat TOLA         ETH   \n",
              "3      M  10000M Men  Beijing  2008     G        Kenenisa BEKELE         ETH   \n",
              "4      M  10000M Men  Beijing  2008     S         Sileshi SIHINE         ETH   \n",
              "\n",
              "     Result  \n",
              "0  25:05.17  \n",
              "1  27:05.64  \n",
              "2  27:06.26  \n",
              "3  27:01.17  \n",
              "4  27:02.77  "
            ],
            "text/html": [
              "\n",
              "  <div id=\"df-e0b452e8-3531-4c2f-a6d7-5a60ca0e35cf\">\n",
              "    <div class=\"colab-df-container\">\n",
              "      <div>\n",
              "<style scoped>\n",
              "    .dataframe tbody tr th:only-of-type {\n",
              "        vertical-align: middle;\n",
              "    }\n",
              "\n",
              "    .dataframe tbody tr th {\n",
              "        vertical-align: top;\n",
              "    }\n",
              "\n",
              "    .dataframe thead th {\n",
              "        text-align: right;\n",
              "    }\n",
              "</style>\n",
              "<table border=\"1\" class=\"dataframe\">\n",
              "  <thead>\n",
              "    <tr style=\"text-align: right;\">\n",
              "      <th></th>\n",
              "      <th>Gender</th>\n",
              "      <th>Event</th>\n",
              "      <th>Location</th>\n",
              "      <th>Year</th>\n",
              "      <th>Medal</th>\n",
              "      <th>Name</th>\n",
              "      <th>Nationality</th>\n",
              "      <th>Result</th>\n",
              "    </tr>\n",
              "  </thead>\n",
              "  <tbody>\n",
              "    <tr>\n",
              "      <th>0</th>\n",
              "      <td>M</td>\n",
              "      <td>10000M Men</td>\n",
              "      <td>Rio</td>\n",
              "      <td>2016</td>\n",
              "      <td>G</td>\n",
              "      <td>Mohamed FARAH</td>\n",
              "      <td>GBR</td>\n",
              "      <td>25:05.17</td>\n",
              "    </tr>\n",
              "    <tr>\n",
              "      <th>1</th>\n",
              "      <td>M</td>\n",
              "      <td>10000M Men</td>\n",
              "      <td>Rio</td>\n",
              "      <td>2016</td>\n",
              "      <td>S</td>\n",
              "      <td>Paul Kipngetich TANUI</td>\n",
              "      <td>KEN</td>\n",
              "      <td>27:05.64</td>\n",
              "    </tr>\n",
              "    <tr>\n",
              "      <th>2</th>\n",
              "      <td>M</td>\n",
              "      <td>10000M Men</td>\n",
              "      <td>Rio</td>\n",
              "      <td>2016</td>\n",
              "      <td>B</td>\n",
              "      <td>Tamirat TOLA</td>\n",
              "      <td>ETH</td>\n",
              "      <td>27:06.26</td>\n",
              "    </tr>\n",
              "    <tr>\n",
              "      <th>3</th>\n",
              "      <td>M</td>\n",
              "      <td>10000M Men</td>\n",
              "      <td>Beijing</td>\n",
              "      <td>2008</td>\n",
              "      <td>G</td>\n",
              "      <td>Kenenisa BEKELE</td>\n",
              "      <td>ETH</td>\n",
              "      <td>27:01.17</td>\n",
              "    </tr>\n",
              "    <tr>\n",
              "      <th>4</th>\n",
              "      <td>M</td>\n",
              "      <td>10000M Men</td>\n",
              "      <td>Beijing</td>\n",
              "      <td>2008</td>\n",
              "      <td>S</td>\n",
              "      <td>Sileshi SIHINE</td>\n",
              "      <td>ETH</td>\n",
              "      <td>27:02.77</td>\n",
              "    </tr>\n",
              "  </tbody>\n",
              "</table>\n",
              "</div>\n",
              "      <button class=\"colab-df-convert\" onclick=\"convertToInteractive('df-e0b452e8-3531-4c2f-a6d7-5a60ca0e35cf')\"\n",
              "              title=\"Convert this dataframe to an interactive table.\"\n",
              "              style=\"display:none;\">\n",
              "        \n",
              "  <svg xmlns=\"http://www.w3.org/2000/svg\" height=\"24px\"viewBox=\"0 0 24 24\"\n",
              "       width=\"24px\">\n",
              "    <path d=\"M0 0h24v24H0V0z\" fill=\"none\"/>\n",
              "    <path d=\"M18.56 5.44l.94 2.06.94-2.06 2.06-.94-2.06-.94-.94-2.06-.94 2.06-2.06.94zm-11 1L8.5 8.5l.94-2.06 2.06-.94-2.06-.94L8.5 2.5l-.94 2.06-2.06.94zm10 10l.94 2.06.94-2.06 2.06-.94-2.06-.94-.94-2.06-.94 2.06-2.06.94z\"/><path d=\"M17.41 7.96l-1.37-1.37c-.4-.4-.92-.59-1.43-.59-.52 0-1.04.2-1.43.59L10.3 9.45l-7.72 7.72c-.78.78-.78 2.05 0 2.83L4 21.41c.39.39.9.59 1.41.59.51 0 1.02-.2 1.41-.59l7.78-7.78 2.81-2.81c.8-.78.8-2.07 0-2.86zM5.41 20L4 18.59l7.72-7.72 1.47 1.35L5.41 20z\"/>\n",
              "  </svg>\n",
              "      </button>\n",
              "      \n",
              "  <style>\n",
              "    .colab-df-container {\n",
              "      display:flex;\n",
              "      flex-wrap:wrap;\n",
              "      gap: 12px;\n",
              "    }\n",
              "\n",
              "    .colab-df-convert {\n",
              "      background-color: #E8F0FE;\n",
              "      border: none;\n",
              "      border-radius: 50%;\n",
              "      cursor: pointer;\n",
              "      display: none;\n",
              "      fill: #1967D2;\n",
              "      height: 32px;\n",
              "      padding: 0 0 0 0;\n",
              "      width: 32px;\n",
              "    }\n",
              "\n",
              "    .colab-df-convert:hover {\n",
              "      background-color: #E2EBFA;\n",
              "      box-shadow: 0px 1px 2px rgba(60, 64, 67, 0.3), 0px 1px 3px 1px rgba(60, 64, 67, 0.15);\n",
              "      fill: #174EA6;\n",
              "    }\n",
              "\n",
              "    [theme=dark] .colab-df-convert {\n",
              "      background-color: #3B4455;\n",
              "      fill: #D2E3FC;\n",
              "    }\n",
              "\n",
              "    [theme=dark] .colab-df-convert:hover {\n",
              "      background-color: #434B5C;\n",
              "      box-shadow: 0px 1px 3px 1px rgba(0, 0, 0, 0.15);\n",
              "      filter: drop-shadow(0px 1px 2px rgba(0, 0, 0, 0.3));\n",
              "      fill: #FFFFFF;\n",
              "    }\n",
              "  </style>\n",
              "\n",
              "      <script>\n",
              "        const buttonEl =\n",
              "          document.querySelector('#df-e0b452e8-3531-4c2f-a6d7-5a60ca0e35cf button.colab-df-convert');\n",
              "        buttonEl.style.display =\n",
              "          google.colab.kernel.accessAllowed ? 'block' : 'none';\n",
              "\n",
              "        async function convertToInteractive(key) {\n",
              "          const element = document.querySelector('#df-e0b452e8-3531-4c2f-a6d7-5a60ca0e35cf');\n",
              "          const dataTable =\n",
              "            await google.colab.kernel.invokeFunction('convertToInteractive',\n",
              "                                                     [key], {});\n",
              "          if (!dataTable) return;\n",
              "\n",
              "          const docLinkHtml = 'Like what you see? Visit the ' +\n",
              "            '<a target=\"_blank\" href=https://colab.research.google.com/notebooks/data_table.ipynb>data table notebook</a>'\n",
              "            + ' to learn more about interactive tables.';\n",
              "          element.innerHTML = '';\n",
              "          dataTable['output_type'] = 'display_data';\n",
              "          await google.colab.output.renderOutput(dataTable, element);\n",
              "          const docLink = document.createElement('div');\n",
              "          docLink.innerHTML = docLinkHtml;\n",
              "          element.appendChild(docLink);\n",
              "        }\n",
              "      </script>\n",
              "    </div>\n",
              "  </div>\n",
              "  "
            ]
          },
          "metadata": {},
          "execution_count": 7
        }
      ]
    },
    {
      "cell_type": "markdown",
      "source": [
        "**A**"
      ],
      "metadata": {
        "id": "IaRB_RlBeqlZ"
      }
    },
    {
      "cell_type": "code",
      "source": [
        "df.info()\n",
        "\n",
        "print(\"Number of rows:\",len(df))\n",
        "print(\"Number of columns:\",len(df.columns))"
      ],
      "metadata": {
        "colab": {
          "base_uri": "https://localhost:8080/"
        },
        "id": "O3ge5B4qawIB",
        "outputId": "d23a50bf-211b-4fae-eea0-9bc4f0ac69f2"
      },
      "execution_count": 34,
      "outputs": [
        {
          "output_type": "stream",
          "name": "stdout",
          "text": [
            "<class 'pandas.core.frame.DataFrame'>\n",
            "RangeIndex: 2394 entries, 0 to 2393\n",
            "Data columns (total 8 columns):\n",
            " #   Column       Non-Null Count  Dtype \n",
            "---  ------       --------------  ----- \n",
            " 0   Gender       2394 non-null   object\n",
            " 1   Event        2394 non-null   object\n",
            " 2   Location     2394 non-null   object\n",
            " 3   Year         2394 non-null   object\n",
            " 4   Medal        2394 non-null   object\n",
            " 5   Name         2394 non-null   object\n",
            " 6   Nationality  2394 non-null   object\n",
            " 7   Result       2394 non-null   object\n",
            "dtypes: object(8)\n",
            "memory usage: 149.8+ KB\n",
            "Number of rows: 2394\n",
            "Number of columns: 8\n"
          ]
        }
      ]
    },
    {
      "cell_type": "markdown",
      "source": [
        "**B**"
      ],
      "metadata": {
        "id": "Lx8aph6ze2c8"
      }
    },
    {
      "cell_type": "code",
      "source": [
        "df.dtypes"
      ],
      "metadata": {
        "colab": {
          "base_uri": "https://localhost:8080/"
        },
        "id": "u15j0d4_e2DT",
        "outputId": "3cb5528d-97a9-42ef-94b4-9abe6c14a623"
      },
      "execution_count": 14,
      "outputs": [
        {
          "output_type": "execute_result",
          "data": {
            "text/plain": [
              "Gender         object\n",
              "Event          object\n",
              "Location       object\n",
              "Year           object\n",
              "Medal          object\n",
              "Name           object\n",
              "Nationality    object\n",
              "Result         object\n",
              "dtype: object"
            ]
          },
          "metadata": {},
          "execution_count": 14
        }
      ]
    },
    {
      "cell_type": "markdown",
      "source": [
        "**C**"
      ],
      "metadata": {
        "id": "lEH5V1LlfOnA"
      }
    },
    {
      "cell_type": "code",
      "source": [
        "print(\"There are\",len(df['Location'].unique()),\"unique cities where matches were held.\")"
      ],
      "metadata": {
        "colab": {
          "base_uri": "https://localhost:8080/"
        },
        "id": "E2JEMbTRfSnx",
        "outputId": "cb9064cb-0668-41f4-c815-0636bd4b847c"
      },
      "execution_count": 33,
      "outputs": [
        {
          "output_type": "stream",
          "name": "stdout",
          "text": [
            "There are 23 unique cities where matches were held.\n"
          ]
        }
      ]
    },
    {
      "cell_type": "markdown",
      "source": [
        "**D**"
      ],
      "metadata": {
        "id": "YfDz9oYpjuAv"
      }
    },
    {
      "cell_type": "code",
      "source": [
        "print(\"The USA has won\",len(df.loc[df['Nationality'] == \"USA\"]),\"medals.\")"
      ],
      "metadata": {
        "colab": {
          "base_uri": "https://localhost:8080/"
        },
        "id": "fqFIUJefjvYS",
        "outputId": "45b2ffc5-d900-45e7-c5c6-0ab80e32d6bc"
      },
      "execution_count": 39,
      "outputs": [
        {
          "output_type": "stream",
          "name": "stdout",
          "text": [
            "The USA has won 638 medals.\n"
          ]
        }
      ]
    },
    {
      "cell_type": "markdown",
      "source": [
        "**E**"
      ],
      "metadata": {
        "id": "_BPz8Q0LnZzO"
      }
    },
    {
      "cell_type": "code",
      "source": [
        "df.groupby(by='Nationality')['Medal'].count()"
      ],
      "metadata": {
        "colab": {
          "base_uri": "https://localhost:8080/"
        },
        "id": "0F3VOYgTnbFT",
        "outputId": "e40be387-9663-4b86-d4b0-1e23441ed1b6"
      },
      "execution_count": 43,
      "outputs": [
        {
          "output_type": "execute_result",
          "data": {
            "text/plain": [
              "Nationality\n",
              "ALG      9\n",
              "ARG      4\n",
              "AUS     57\n",
              "AUT      4\n",
              "BAH     12\n",
              "      ... \n",
              "URS    131\n",
              "USA    638\n",
              "VEN      2\n",
              "YUG      1\n",
              "ZAM      1\n",
              "Name: Medal, Length: 97, dtype: int64"
            ]
          },
          "metadata": {},
          "execution_count": 43
        }
      ]
    }
  ]
}